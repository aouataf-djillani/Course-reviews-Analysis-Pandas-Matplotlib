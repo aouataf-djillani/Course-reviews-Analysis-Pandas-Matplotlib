{
 "cells": [
  {
   "cell_type": "markdown",
   "id": "a99b0d02",
   "metadata": {},
   "source": [
    "## Acess to dataframe\n"
   ]
  },
  {
   "cell_type": "code",
   "execution_count": 1,
   "id": "f3446cc6",
   "metadata": {},
   "outputs": [
    {
     "data": {
      "text/html": [
       "<div>\n",
       "<style scoped>\n",
       "    .dataframe tbody tr th:only-of-type {\n",
       "        vertical-align: middle;\n",
       "    }\n",
       "\n",
       "    .dataframe tbody tr th {\n",
       "        vertical-align: top;\n",
       "    }\n",
       "\n",
       "    .dataframe thead th {\n",
       "        text-align: right;\n",
       "    }\n",
       "</style>\n",
       "<table border=\"1\" class=\"dataframe\">\n",
       "  <thead>\n",
       "    <tr style=\"text-align: right;\">\n",
       "      <th></th>\n",
       "      <th>Course Name</th>\n",
       "      <th>Timestamp</th>\n",
       "      <th>Rating</th>\n",
       "      <th>Comment</th>\n",
       "    </tr>\n",
       "  </thead>\n",
       "  <tbody>\n",
       "    <tr>\n",
       "      <th>0</th>\n",
       "      <td>The Python Mega Course: Build 10 Real World Ap...</td>\n",
       "      <td>2021-04-02 06:25:52+00:00</td>\n",
       "      <td>4.0</td>\n",
       "      <td>NaN</td>\n",
       "    </tr>\n",
       "    <tr>\n",
       "      <th>1</th>\n",
       "      <td>The Python Mega Course: Build 10 Real World Ap...</td>\n",
       "      <td>2021-04-02 05:12:34+00:00</td>\n",
       "      <td>4.0</td>\n",
       "      <td>NaN</td>\n",
       "    </tr>\n",
       "    <tr>\n",
       "      <th>2</th>\n",
       "      <td>The Python Mega Course: Build 10 Real World Ap...</td>\n",
       "      <td>2021-04-02 05:11:03+00:00</td>\n",
       "      <td>4.0</td>\n",
       "      <td>NaN</td>\n",
       "    </tr>\n",
       "    <tr>\n",
       "      <th>3</th>\n",
       "      <td>The Python Mega Course: Build 10 Real World Ap...</td>\n",
       "      <td>2021-04-02 03:33:24+00:00</td>\n",
       "      <td>5.0</td>\n",
       "      <td>NaN</td>\n",
       "    </tr>\n",
       "    <tr>\n",
       "      <th>4</th>\n",
       "      <td>The Python Mega Course: Build 10 Real World Ap...</td>\n",
       "      <td>2021-04-02 03:31:49+00:00</td>\n",
       "      <td>4.5</td>\n",
       "      <td>NaN</td>\n",
       "    </tr>\n",
       "  </tbody>\n",
       "</table>\n",
       "</div>"
      ],
      "text/plain": [
       "                                         Course Name  \\\n",
       "0  The Python Mega Course: Build 10 Real World Ap...   \n",
       "1  The Python Mega Course: Build 10 Real World Ap...   \n",
       "2  The Python Mega Course: Build 10 Real World Ap...   \n",
       "3  The Python Mega Course: Build 10 Real World Ap...   \n",
       "4  The Python Mega Course: Build 10 Real World Ap...   \n",
       "\n",
       "                  Timestamp  Rating Comment  \n",
       "0 2021-04-02 06:25:52+00:00     4.0     NaN  \n",
       "1 2021-04-02 05:12:34+00:00     4.0     NaN  \n",
       "2 2021-04-02 05:11:03+00:00     4.0     NaN  \n",
       "3 2021-04-02 03:33:24+00:00     5.0     NaN  \n",
       "4 2021-04-02 03:31:49+00:00     4.5     NaN  "
      ]
     },
     "execution_count": 1,
     "metadata": {},
     "output_type": "execute_result"
    }
   ],
   "source": [
    "import pandas as pd \n",
    "from pytz import utc \n",
    "data=pd.read_csv(\"reviews.csv\",parse_dates=[\"Timestamp\"])\n",
    "data.head()\n",
    "\n"
   ]
  },
  {
   "cell_type": "code",
   "execution_count": 2,
   "id": "b8396ddf",
   "metadata": {},
   "outputs": [
    {
     "data": {
      "text/plain": [
       "(45000, 4)"
      ]
     },
     "execution_count": 2,
     "metadata": {},
     "output_type": "execute_result"
    }
   ],
   "source": [
    "data.shape"
   ]
  },
  {
   "cell_type": "code",
   "execution_count": 3,
   "id": "6de7fae6",
   "metadata": {},
   "outputs": [
    {
     "data": {
      "text/plain": [
       "Index(['Course Name', 'Timestamp', 'Rating', 'Comment'], dtype='object')"
      ]
     },
     "execution_count": 3,
     "metadata": {},
     "output_type": "execute_result"
    }
   ],
   "source": [
    "data.columns"
   ]
  },
  {
   "cell_type": "code",
   "execution_count": 4,
   "id": "0c528e97",
   "metadata": {
    "scrolled": true
   },
   "outputs": [
    {
     "data": {
      "text/plain": [
       "array([[<matplotlib.axes._subplots.AxesSubplot object at 0x7fc972c282e0>]],\n",
       "      dtype=object)"
      ]
     },
     "execution_count": 4,
     "metadata": {},
     "output_type": "execute_result"
    },
    {
     "data": {
      "image/png": "[encoded data removed]",
      "text/plain": [
       "<Figure size 432x288 with 1 Axes>"
      ]
     },
     "metadata": {
      "needs_background": "light"
     },
     "output_type": "display_data"
    }
   ],
   "source": [
    "data.hist('Rating')"
   ]
  },
  {
   "cell_type": "markdown",
   "id": "236ea32f",
   "metadata": {},
   "source": [
    "## Selecting data from dataframe"
   ]
  },
  {
   "cell_type": "code",
   "execution_count": 5,
   "id": "0cb10bc6",
   "metadata": {},
   "outputs": [
    {
     "data": {
      "text/plain": [
       "4.442155555555556"
      ]
     },
     "execution_count": 5,
     "metadata": {},
     "output_type": "execute_result"
    }
   ],
   "source": [
    "data['Rating'].mean()"
   ]
  },
  {
   "cell_type": "code",
   "execution_count": 6,
   "id": "eaf79159",
   "metadata": {
    "scrolled": true
   },
   "outputs": [
    {
     "data": {
      "text/html": [
       "<div>\n",
       "<style scoped>\n",
       "    .dataframe tbody tr th:only-of-type {\n",
       "        vertical-align: middle;\n",
       "    }\n",
       "\n",
       "    .dataframe tbody tr th {\n",
       "        vertical-align: top;\n",
       "    }\n",
       "\n",
       "    .dataframe thead th {\n",
       "        text-align: right;\n",
       "    }\n",
       "</style>\n",
       "<table border=\"1\" class=\"dataframe\">\n",
       "  <thead>\n",
       "    <tr style=\"text-align: right;\">\n",
       "      <th></th>\n",
       "      <th>Rating</th>\n",
       "      <th>Course Name</th>\n",
       "    </tr>\n",
       "  </thead>\n",
       "  <tbody>\n",
       "    <tr>\n",
       "      <th>0</th>\n",
       "      <td>4.0</td>\n",
       "      <td>The Python Mega Course: Build 10 Real World Ap...</td>\n",
       "    </tr>\n",
       "    <tr>\n",
       "      <th>1</th>\n",
       "      <td>4.0</td>\n",
       "      <td>The Python Mega Course: Build 10 Real World Ap...</td>\n",
       "    </tr>\n",
       "    <tr>\n",
       "      <th>2</th>\n",
       "      <td>4.0</td>\n",
       "      <td>The Python Mega Course: Build 10 Real World Ap...</td>\n",
       "    </tr>\n",
       "    <tr>\n",
       "      <th>3</th>\n",
       "      <td>5.0</td>\n",
       "      <td>The Python Mega Course: Build 10 Real World Ap...</td>\n",
       "    </tr>\n",
       "    <tr>\n",
       "      <th>4</th>\n",
       "      <td>4.5</td>\n",
       "      <td>The Python Mega Course: Build 10 Real World Ap...</td>\n",
       "    </tr>\n",
       "    <tr>\n",
       "      <th>...</th>\n",
       "      <td>...</td>\n",
       "      <td>...</td>\n",
       "    </tr>\n",
       "    <tr>\n",
       "      <th>44995</th>\n",
       "      <td>4.0</td>\n",
       "      <td>Python for Beginners with Examples</td>\n",
       "    </tr>\n",
       "    <tr>\n",
       "      <th>44996</th>\n",
       "      <td>5.0</td>\n",
       "      <td>The Python Mega Course: Build 10 Real World Ap...</td>\n",
       "    </tr>\n",
       "    <tr>\n",
       "      <th>44997</th>\n",
       "      <td>5.0</td>\n",
       "      <td>The Python Mega Course: Build 10 Real World Ap...</td>\n",
       "    </tr>\n",
       "    <tr>\n",
       "      <th>44998</th>\n",
       "      <td>5.0</td>\n",
       "      <td>Python for Beginners with Examples</td>\n",
       "    </tr>\n",
       "    <tr>\n",
       "      <th>44999</th>\n",
       "      <td>5.0</td>\n",
       "      <td>The Python Mega Course: Build 10 Real World Ap...</td>\n",
       "    </tr>\n",
       "  </tbody>\n",
       "</table>\n",
       "<p>45000 rows × 2 columns</p>\n",
       "</div>"
      ],
      "text/plain": [
       "       Rating                                        Course Name\n",
       "0         4.0  The Python Mega Course: Build 10 Real World Ap...\n",
       "1         4.0  The Python Mega Course: Build 10 Real World Ap...\n",
       "2         4.0  The Python Mega Course: Build 10 Real World Ap...\n",
       "3         5.0  The Python Mega Course: Build 10 Real World Ap...\n",
       "4         4.5  The Python Mega Course: Build 10 Real World Ap...\n",
       "...       ...                                                ...\n",
       "44995     4.0                 Python for Beginners with Examples\n",
       "44996     5.0  The Python Mega Course: Build 10 Real World Ap...\n",
       "44997     5.0  The Python Mega Course: Build 10 Real World Ap...\n",
       "44998     5.0                 Python for Beginners with Examples\n",
       "44999     5.0  The Python Mega Course: Build 10 Real World Ap...\n",
       "\n",
       "[45000 rows x 2 columns]"
      ]
     },
     "execution_count": 6,
     "metadata": {},
     "output_type": "execute_result"
    }
   ],
   "source": [
    "data[[\"Rating\", \"Course Name\"]]"
   ]
  },
  {
   "cell_type": "markdown",
   "id": "f2678a6f",
   "metadata": {},
   "source": [
    "## Selecting a Row\n"
   ]
  },
  {
   "cell_type": "code",
   "execution_count": 7,
   "id": "3e0797f6",
   "metadata": {},
   "outputs": [
    {
     "data": {
      "text/plain": [
       "Course Name    The Python Mega Course: Build 10 Real World Ap...\n",
       "Timestamp                              2021-03-30 18:26:33+00:00\n",
       "Rating                                                       4.5\n",
       "Comment                                                      NaN\n",
       "Name: 70, dtype: object"
      ]
     },
     "execution_count": 7,
     "metadata": {},
     "output_type": "execute_result"
    }
   ],
   "source": [
    "data.iloc[70]"
   ]
  },
  {
   "cell_type": "code",
   "execution_count": 21,
   "id": "ea6cbc46",
   "metadata": {},
   "outputs": [
    {
     "data": {
      "text/plain": [
       "Course Name    The Python Mega Course: Build 10 Real World Ap...\n",
       "Rating                                                       4.5\n",
       "Name: 5, dtype: object"
      ]
     },
     "execution_count": 21,
     "metadata": {},
     "output_type": "execute_result"
    }
   ],
   "source": [
    "data[[\"Course Name\",'Rating']].iloc[5]"
   ]
  },
  {
   "cell_type": "code",
   "execution_count": 9,
   "id": "4e58fb21",
   "metadata": {},
   "outputs": [
    {
     "data": {
      "text/plain": [
       "'The Python Mega Course: Build 10 Real World Applications'"
      ]
     },
     "execution_count": 9,
     "metadata": {},
     "output_type": "execute_result"
    }
   ],
   "source": [
    "data.at[2,\"Course Name\"]"
   ]
  },
  {
   "cell_type": "markdown",
   "id": "e8d6096e",
   "metadata": {},
   "source": [
    "## Filtering \n",
    "\n"
   ]
  },
  {
   "cell_type": "code",
   "execution_count": 10,
   "id": "5d9ba5a6",
   "metadata": {},
   "outputs": [
    {
     "data": {
      "text/html": [
       "<div>\n",
       "<style scoped>\n",
       "    .dataframe tbody tr th:only-of-type {\n",
       "        vertical-align: middle;\n",
       "    }\n",
       "\n",
       "    .dataframe tbody tr th {\n",
       "        vertical-align: top;\n",
       "    }\n",
       "\n",
       "    .dataframe thead th {\n",
       "        text-align: right;\n",
       "    }\n",
       "</style>\n",
       "<table border=\"1\" class=\"dataframe\">\n",
       "  <thead>\n",
       "    <tr style=\"text-align: right;\">\n",
       "      <th></th>\n",
       "      <th>Course Name</th>\n",
       "      <th>Timestamp</th>\n",
       "      <th>Rating</th>\n",
       "      <th>Comment</th>\n",
       "    </tr>\n",
       "  </thead>\n",
       "  <tbody>\n",
       "    <tr>\n",
       "      <th>3</th>\n",
       "      <td>The Python Mega Course: Build 10 Real World Ap...</td>\n",
       "      <td>2021-04-02 03:33:24+00:00</td>\n",
       "      <td>5.0</td>\n",
       "      <td>NaN</td>\n",
       "    </tr>\n",
       "    <tr>\n",
       "      <th>4</th>\n",
       "      <td>The Python Mega Course: Build 10 Real World Ap...</td>\n",
       "      <td>2021-04-02 03:31:49+00:00</td>\n",
       "      <td>4.5</td>\n",
       "      <td>NaN</td>\n",
       "    </tr>\n",
       "    <tr>\n",
       "      <th>5</th>\n",
       "      <td>The Python Mega Course: Build 10 Real World Ap...</td>\n",
       "      <td>2021-04-02 01:10:06+00:00</td>\n",
       "      <td>4.5</td>\n",
       "      <td>NaN</td>\n",
       "    </tr>\n",
       "    <tr>\n",
       "      <th>6</th>\n",
       "      <td>The Python Mega Course: Build 10 Real World Ap...</td>\n",
       "      <td>2021-04-02 00:44:54+00:00</td>\n",
       "      <td>4.5</td>\n",
       "      <td>NaN</td>\n",
       "    </tr>\n",
       "    <tr>\n",
       "      <th>7</th>\n",
       "      <td>The Python Mega Course: Build 10 Real World Ap...</td>\n",
       "      <td>2021-04-01 23:42:02+00:00</td>\n",
       "      <td>5.0</td>\n",
       "      <td>NaN</td>\n",
       "    </tr>\n",
       "    <tr>\n",
       "      <th>...</th>\n",
       "      <td>...</td>\n",
       "      <td>...</td>\n",
       "      <td>...</td>\n",
       "      <td>...</td>\n",
       "    </tr>\n",
       "    <tr>\n",
       "      <th>44994</th>\n",
       "      <td>The Python Mega Course: Build 10 Real World Ap...</td>\n",
       "      <td>2018-01-01 01:19:24+00:00</td>\n",
       "      <td>5.0</td>\n",
       "      <td>NaN</td>\n",
       "    </tr>\n",
       "    <tr>\n",
       "      <th>44996</th>\n",
       "      <td>The Python Mega Course: Build 10 Real World Ap...</td>\n",
       "      <td>2018-01-01 01:09:56+00:00</td>\n",
       "      <td>5.0</td>\n",
       "      <td>NaN</td>\n",
       "    </tr>\n",
       "    <tr>\n",
       "      <th>44997</th>\n",
       "      <td>The Python Mega Course: Build 10 Real World Ap...</td>\n",
       "      <td>2018-01-01 01:08:11+00:00</td>\n",
       "      <td>5.0</td>\n",
       "      <td>NaN</td>\n",
       "    </tr>\n",
       "    <tr>\n",
       "      <th>44998</th>\n",
       "      <td>Python for Beginners with Examples</td>\n",
       "      <td>2018-01-01 01:05:26+00:00</td>\n",
       "      <td>5.0</td>\n",
       "      <td>NaN</td>\n",
       "    </tr>\n",
       "    <tr>\n",
       "      <th>44999</th>\n",
       "      <td>The Python Mega Course: Build 10 Real World Ap...</td>\n",
       "      <td>2018-01-01 01:01:16+00:00</td>\n",
       "      <td>5.0</td>\n",
       "      <td>NaN</td>\n",
       "    </tr>\n",
       "  </tbody>\n",
       "</table>\n",
       "<p>29758 rows × 4 columns</p>\n",
       "</div>"
      ],
      "text/plain": [
       "                                             Course Name  \\\n",
       "3      The Python Mega Course: Build 10 Real World Ap...   \n",
       "4      The Python Mega Course: Build 10 Real World Ap...   \n",
       "5      The Python Mega Course: Build 10 Real World Ap...   \n",
       "6      The Python Mega Course: Build 10 Real World Ap...   \n",
       "7      The Python Mega Course: Build 10 Real World Ap...   \n",
       "...                                                  ...   \n",
       "44994  The Python Mega Course: Build 10 Real World Ap...   \n",
       "44996  The Python Mega Course: Build 10 Real World Ap...   \n",
       "44997  The Python Mega Course: Build 10 Real World Ap...   \n",
       "44998                 Python for Beginners with Examples   \n",
       "44999  The Python Mega Course: Build 10 Real World Ap...   \n",
       "\n",
       "                      Timestamp  Rating Comment  \n",
       "3     2021-04-02 03:33:24+00:00     5.0     NaN  \n",
       "4     2021-04-02 03:31:49+00:00     4.5     NaN  \n",
       "5     2021-04-02 01:10:06+00:00     4.5     NaN  \n",
       "6     2021-04-02 00:44:54+00:00     4.5     NaN  \n",
       "7     2021-04-01 23:42:02+00:00     5.0     NaN  \n",
       "...                         ...     ...     ...  \n",
       "44994 2018-01-01 01:19:24+00:00     5.0     NaN  \n",
       "44996 2018-01-01 01:09:56+00:00     5.0     NaN  \n",
       "44997 2018-01-01 01:08:11+00:00     5.0     NaN  \n",
       "44998 2018-01-01 01:05:26+00:00     5.0     NaN  \n",
       "44999 2018-01-01 01:01:16+00:00     5.0     NaN  \n",
       "\n",
       "[29758 rows x 4 columns]"
      ]
     },
     "execution_count": 10,
     "metadata": {},
     "output_type": "execute_result"
    }
   ],
   "source": [
    "data[data[\"Rating\"]>4]\n"
   ]
  },
  {
   "cell_type": "code",
   "execution_count": 11,
   "id": "eac540d4",
   "metadata": {},
   "outputs": [
    {
     "data": {
      "text/html": [
       "<div>\n",
       "<style scoped>\n",
       "    .dataframe tbody tr th:only-of-type {\n",
       "        vertical-align: middle;\n",
       "    }\n",
       "\n",
       "    .dataframe tbody tr th {\n",
       "        vertical-align: top;\n",
       "    }\n",
       "\n",
       "    .dataframe thead th {\n",
       "        text-align: right;\n",
       "    }\n",
       "</style>\n",
       "<table border=\"1\" class=\"dataframe\">\n",
       "  <thead>\n",
       "    <tr style=\"text-align: right;\">\n",
       "      <th></th>\n",
       "      <th>Course Name</th>\n",
       "      <th>Timestamp</th>\n",
       "      <th>Rating</th>\n",
       "      <th>Comment</th>\n",
       "    </tr>\n",
       "  </thead>\n",
       "  <tbody>\n",
       "    <tr>\n",
       "      <th>3</th>\n",
       "      <td>The Python Mega Course: Build 10 Real World Ap...</td>\n",
       "      <td>2021-04-02 03:33:24+00:00</td>\n",
       "      <td>5.0</td>\n",
       "      <td>NaN</td>\n",
       "    </tr>\n",
       "    <tr>\n",
       "      <th>4</th>\n",
       "      <td>The Python Mega Course: Build 10 Real World Ap...</td>\n",
       "      <td>2021-04-02 03:31:49+00:00</td>\n",
       "      <td>4.5</td>\n",
       "      <td>NaN</td>\n",
       "    </tr>\n",
       "    <tr>\n",
       "      <th>5</th>\n",
       "      <td>The Python Mega Course: Build 10 Real World Ap...</td>\n",
       "      <td>2021-04-02 01:10:06+00:00</td>\n",
       "      <td>4.5</td>\n",
       "      <td>NaN</td>\n",
       "    </tr>\n",
       "    <tr>\n",
       "      <th>6</th>\n",
       "      <td>The Python Mega Course: Build 10 Real World Ap...</td>\n",
       "      <td>2021-04-02 00:44:54+00:00</td>\n",
       "      <td>4.5</td>\n",
       "      <td>NaN</td>\n",
       "    </tr>\n",
       "    <tr>\n",
       "      <th>7</th>\n",
       "      <td>The Python Mega Course: Build 10 Real World Ap...</td>\n",
       "      <td>2021-04-01 23:42:02+00:00</td>\n",
       "      <td>5.0</td>\n",
       "      <td>NaN</td>\n",
       "    </tr>\n",
       "    <tr>\n",
       "      <th>...</th>\n",
       "      <td>...</td>\n",
       "      <td>...</td>\n",
       "      <td>...</td>\n",
       "      <td>...</td>\n",
       "    </tr>\n",
       "    <tr>\n",
       "      <th>44992</th>\n",
       "      <td>The Python Mega Course: Build 10 Real World Ap...</td>\n",
       "      <td>2018-01-01 01:27:26+00:00</td>\n",
       "      <td>5.0</td>\n",
       "      <td>NaN</td>\n",
       "    </tr>\n",
       "    <tr>\n",
       "      <th>44994</th>\n",
       "      <td>The Python Mega Course: Build 10 Real World Ap...</td>\n",
       "      <td>2018-01-01 01:19:24+00:00</td>\n",
       "      <td>5.0</td>\n",
       "      <td>NaN</td>\n",
       "    </tr>\n",
       "    <tr>\n",
       "      <th>44996</th>\n",
       "      <td>The Python Mega Course: Build 10 Real World Ap...</td>\n",
       "      <td>2018-01-01 01:09:56+00:00</td>\n",
       "      <td>5.0</td>\n",
       "      <td>NaN</td>\n",
       "    </tr>\n",
       "    <tr>\n",
       "      <th>44997</th>\n",
       "      <td>The Python Mega Course: Build 10 Real World Ap...</td>\n",
       "      <td>2018-01-01 01:08:11+00:00</td>\n",
       "      <td>5.0</td>\n",
       "      <td>NaN</td>\n",
       "    </tr>\n",
       "    <tr>\n",
       "      <th>44999</th>\n",
       "      <td>The Python Mega Course: Build 10 Real World Ap...</td>\n",
       "      <td>2018-01-01 01:01:16+00:00</td>\n",
       "      <td>5.0</td>\n",
       "      <td>NaN</td>\n",
       "    </tr>\n",
       "  </tbody>\n",
       "</table>\n",
       "<p>24260 rows × 4 columns</p>\n",
       "</div>"
      ],
      "text/plain": [
       "                                             Course Name  \\\n",
       "3      The Python Mega Course: Build 10 Real World Ap...   \n",
       "4      The Python Mega Course: Build 10 Real World Ap...   \n",
       "5      The Python Mega Course: Build 10 Real World Ap...   \n",
       "6      The Python Mega Course: Build 10 Real World Ap...   \n",
       "7      The Python Mega Course: Build 10 Real World Ap...   \n",
       "...                                                  ...   \n",
       "44992  The Python Mega Course: Build 10 Real World Ap...   \n",
       "44994  The Python Mega Course: Build 10 Real World Ap...   \n",
       "44996  The Python Mega Course: Build 10 Real World Ap...   \n",
       "44997  The Python Mega Course: Build 10 Real World Ap...   \n",
       "44999  The Python Mega Course: Build 10 Real World Ap...   \n",
       "\n",
       "                      Timestamp  Rating Comment  \n",
       "3     2021-04-02 03:33:24+00:00     5.0     NaN  \n",
       "4     2021-04-02 03:31:49+00:00     4.5     NaN  \n",
       "5     2021-04-02 01:10:06+00:00     4.5     NaN  \n",
       "6     2021-04-02 00:44:54+00:00     4.5     NaN  \n",
       "7     2021-04-01 23:42:02+00:00     5.0     NaN  \n",
       "...                         ...     ...     ...  \n",
       "44992 2018-01-01 01:27:26+00:00     5.0     NaN  \n",
       "44994 2018-01-01 01:19:24+00:00     5.0     NaN  \n",
       "44996 2018-01-01 01:09:56+00:00     5.0     NaN  \n",
       "44997 2018-01-01 01:08:11+00:00     5.0     NaN  \n",
       "44999 2018-01-01 01:01:16+00:00     5.0     NaN  \n",
       "\n",
       "[24260 rows x 4 columns]"
      ]
     },
     "execution_count": 11,
     "metadata": {},
     "output_type": "execute_result"
    }
   ],
   "source": [
    "data[(data[\"Rating\"]>4)&(data[\"Course Name\"]==\"The Python Mega Course: Build 10 Real World Applications\")]"
   ]
  },
  {
   "cell_type": "markdown",
   "id": "7a23d941",
   "metadata": {},
   "source": [
    "## Time based filtering  "
   ]
  },
  {
   "cell_type": "code",
   "execution_count": 25,
   "id": "9e0dab40",
   "metadata": {},
   "outputs": [
    {
     "data": {
      "text/html": [
       "<div>\n",
       "<style scoped>\n",
       "    .dataframe tbody tr th:only-of-type {\n",
       "        vertical-align: middle;\n",
       "    }\n",
       "\n",
       "    .dataframe tbody tr th {\n",
       "        vertical-align: top;\n",
       "    }\n",
       "\n",
       "    .dataframe thead th {\n",
       "        text-align: right;\n",
       "    }\n",
       "</style>\n",
       "<table border=\"1\" class=\"dataframe\">\n",
       "  <thead>\n",
       "    <tr style=\"text-align: right;\">\n",
       "      <th></th>\n",
       "      <th>Course Name</th>\n",
       "      <th>Timestamp</th>\n",
       "      <th>Rating</th>\n",
       "      <th>Comment</th>\n",
       "    </tr>\n",
       "  </thead>\n",
       "  <tbody>\n",
       "    <tr>\n",
       "      <th>0</th>\n",
       "      <td>The Python Mega Course: Build 10 Real World Ap...</td>\n",
       "      <td>2021-04-02 06:25:52+00:00</td>\n",
       "      <td>4.0</td>\n",
       "      <td>NaN</td>\n",
       "    </tr>\n",
       "    <tr>\n",
       "      <th>1</th>\n",
       "      <td>The Python Mega Course: Build 10 Real World Ap...</td>\n",
       "      <td>2021-04-02 05:12:34+00:00</td>\n",
       "      <td>4.0</td>\n",
       "      <td>NaN</td>\n",
       "    </tr>\n",
       "    <tr>\n",
       "      <th>2</th>\n",
       "      <td>The Python Mega Course: Build 10 Real World Ap...</td>\n",
       "      <td>2021-04-02 05:11:03+00:00</td>\n",
       "      <td>4.0</td>\n",
       "      <td>NaN</td>\n",
       "    </tr>\n",
       "    <tr>\n",
       "      <th>3</th>\n",
       "      <td>The Python Mega Course: Build 10 Real World Ap...</td>\n",
       "      <td>2021-04-02 03:33:24+00:00</td>\n",
       "      <td>5.0</td>\n",
       "      <td>NaN</td>\n",
       "    </tr>\n",
       "    <tr>\n",
       "      <th>4</th>\n",
       "      <td>The Python Mega Course: Build 10 Real World Ap...</td>\n",
       "      <td>2021-04-02 03:31:49+00:00</td>\n",
       "      <td>4.5</td>\n",
       "      <td>NaN</td>\n",
       "    </tr>\n",
       "    <tr>\n",
       "      <th>...</th>\n",
       "      <td>...</td>\n",
       "      <td>...</td>\n",
       "      <td>...</td>\n",
       "      <td>...</td>\n",
       "    </tr>\n",
       "    <tr>\n",
       "      <th>19621</th>\n",
       "      <td>The Python Mega Course: Build 10 Real World Ap...</td>\n",
       "      <td>2020-01-01 08:15:48+00:00</td>\n",
       "      <td>5.0</td>\n",
       "      <td>NaN</td>\n",
       "    </tr>\n",
       "    <tr>\n",
       "      <th>19622</th>\n",
       "      <td>The Python Mega Course: Build 10 Real World Ap...</td>\n",
       "      <td>2020-01-01 06:24:54+00:00</td>\n",
       "      <td>5.0</td>\n",
       "      <td>Clearly stated and simple</td>\n",
       "    </tr>\n",
       "    <tr>\n",
       "      <th>19623</th>\n",
       "      <td>Python for Beginners with Examples</td>\n",
       "      <td>2020-01-01 02:15:47+00:00</td>\n",
       "      <td>5.0</td>\n",
       "      <td>NaN</td>\n",
       "    </tr>\n",
       "    <tr>\n",
       "      <th>19624</th>\n",
       "      <td>The Python Mega Course: Build 10 Real World Ap...</td>\n",
       "      <td>2020-01-01 01:10:35+00:00</td>\n",
       "      <td>4.5</td>\n",
       "      <td>NaN</td>\n",
       "    </tr>\n",
       "    <tr>\n",
       "      <th>19625</th>\n",
       "      <td>The Python Mega Course: Build 10 Real World Ap...</td>\n",
       "      <td>2020-01-01 00:04:11+00:00</td>\n",
       "      <td>4.0</td>\n",
       "      <td>NaN</td>\n",
       "    </tr>\n",
       "  </tbody>\n",
       "</table>\n",
       "<p>19626 rows × 4 columns</p>\n",
       "</div>"
      ],
      "text/plain": [
       "                                             Course Name  \\\n",
       "0      The Python Mega Course: Build 10 Real World Ap...   \n",
       "1      The Python Mega Course: Build 10 Real World Ap...   \n",
       "2      The Python Mega Course: Build 10 Real World Ap...   \n",
       "3      The Python Mega Course: Build 10 Real World Ap...   \n",
       "4      The Python Mega Course: Build 10 Real World Ap...   \n",
       "...                                                  ...   \n",
       "19621  The Python Mega Course: Build 10 Real World Ap...   \n",
       "19622  The Python Mega Course: Build 10 Real World Ap...   \n",
       "19623                 Python for Beginners with Examples   \n",
       "19624  The Python Mega Course: Build 10 Real World Ap...   \n",
       "19625  The Python Mega Course: Build 10 Real World Ap...   \n",
       "\n",
       "                      Timestamp  Rating                    Comment  \n",
       "0     2021-04-02 06:25:52+00:00     4.0                        NaN  \n",
       "1     2021-04-02 05:12:34+00:00     4.0                        NaN  \n",
       "2     2021-04-02 05:11:03+00:00     4.0                        NaN  \n",
       "3     2021-04-02 03:33:24+00:00     5.0                        NaN  \n",
       "4     2021-04-02 03:31:49+00:00     4.5                        NaN  \n",
       "...                         ...     ...                        ...  \n",
       "19621 2020-01-01 08:15:48+00:00     5.0                        NaN  \n",
       "19622 2020-01-01 06:24:54+00:00     5.0  Clearly stated and simple  \n",
       "19623 2020-01-01 02:15:47+00:00     5.0                        NaN  \n",
       "19624 2020-01-01 01:10:35+00:00     4.5                        NaN  \n",
       "19625 2020-01-01 00:04:11+00:00     4.0                        NaN  \n",
       "\n",
       "[19626 rows x 4 columns]"
      ]
     },
     "execution_count": 25,
     "metadata": {},
     "output_type": "execute_result"
    }
   ],
   "source": [
    "from datetime import datetime \n",
    "data[data['Timestamp']> datetime(2020,1,1, tzinfo=utc)]\n",
    "\n"
   ]
  },
  {
   "cell_type": "code",
   "execution_count": 26,
   "id": "b6c4cef2",
   "metadata": {},
   "outputs": [
    {
     "data": {
      "text/plain": [
       "4.442155555555556"
      ]
     },
     "execution_count": 26,
     "metadata": {},
     "output_type": "execute_result"
    }
   ],
   "source": [
    "data[\"Rating\"].mean()"
   ]
  },
  {
   "cell_type": "markdown",
   "id": "6c62e310",
   "metadata": {},
   "source": [
    "## From data to information "
   ]
  },
  {
   "cell_type": "markdown",
   "id": "6ef60326",
   "metadata": {},
   "source": [
    "### Average rating\n"
   ]
  },
  {
   "cell_type": "code",
   "execution_count": 43,
   "id": "ada37038",
   "metadata": {},
   "outputs": [
    {
     "data": {
      "text/plain": [
       "<bound method NDFrame.head of                                              Course Name  \\\n",
       "0      The Python Mega Course: Build 10 Real World Ap...   \n",
       "1      The Python Mega Course: Build 10 Real World Ap...   \n",
       "2      The Python Mega Course: Build 10 Real World Ap...   \n",
       "3      The Python Mega Course: Build 10 Real World Ap...   \n",
       "4      The Python Mega Course: Build 10 Real World Ap...   \n",
       "...                                                  ...   \n",
       "44995                 Python for Beginners with Examples   \n",
       "44996  The Python Mega Course: Build 10 Real World Ap...   \n",
       "44997  The Python Mega Course: Build 10 Real World Ap...   \n",
       "44998                 Python for Beginners with Examples   \n",
       "44999  The Python Mega Course: Build 10 Real World Ap...   \n",
       "\n",
       "                      Timestamp  Rating Comment  \n",
       "0     2021-04-02 06:25:52+00:00     4.0     NaN  \n",
       "1     2021-04-02 05:12:34+00:00     4.0     NaN  \n",
       "2     2021-04-02 05:11:03+00:00     4.0     NaN  \n",
       "3     2021-04-02 03:33:24+00:00     5.0     NaN  \n",
       "4     2021-04-02 03:31:49+00:00     4.5     NaN  \n",
       "...                         ...     ...     ...  \n",
       "44995 2018-01-01 01:11:26+00:00     4.0     NaN  \n",
       "44996 2018-01-01 01:09:56+00:00     5.0     NaN  \n",
       "44997 2018-01-01 01:08:11+00:00     5.0     NaN  \n",
       "44998 2018-01-01 01:05:26+00:00     5.0     NaN  \n",
       "44999 2018-01-01 01:01:16+00:00     5.0     NaN  \n",
       "\n",
       "[45000 rows x 4 columns]>"
      ]
     },
     "execution_count": 43,
     "metadata": {},
     "output_type": "execute_result"
    }
   ],
   "source": [
    "data[\"Rating\"].mean()\n",
    "data.columns\n",
    "data.head\n"
   ]
  },
  {
   "cell_type": "markdown",
   "id": "f6f55fdc",
   "metadata": {},
   "source": [
    "### Average rating for a paticular course \n"
   ]
  },
  {
   "cell_type": "code",
   "execution_count": 45,
   "id": "56029c17",
   "metadata": {},
   "outputs": [
    {
     "data": {
      "text/plain": [
       "4.477270180942244"
      ]
     },
     "execution_count": 45,
     "metadata": {},
     "output_type": "execute_result"
    }
   ],
   "source": [
    "data[data['Course Name']==\"The Python Mega Course: Build 10 Real World Applications\"]['Rating'].mean()"
   ]
  },
  {
   "cell_type": "markdown",
   "id": "868b7261",
   "metadata": {},
   "source": [
    "### Average rating for a particular period: de 2019 to jan 2020 \n"
   ]
  },
  {
   "cell_type": "code",
   "execution_count": 49,
   "id": "19ba1cbe",
   "metadata": {},
   "outputs": [
    {
     "data": {
      "text/html": [
       "<div>\n",
       "<style scoped>\n",
       "    .dataframe tbody tr th:only-of-type {\n",
       "        vertical-align: middle;\n",
       "    }\n",
       "\n",
       "    .dataframe tbody tr th {\n",
       "        vertical-align: top;\n",
       "    }\n",
       "\n",
       "    .dataframe thead th {\n",
       "        text-align: right;\n",
       "    }\n",
       "</style>\n",
       "<table border=\"1\" class=\"dataframe\">\n",
       "  <thead>\n",
       "    <tr style=\"text-align: right;\">\n",
       "      <th></th>\n",
       "      <th>Course Name</th>\n",
       "      <th>Timestamp</th>\n",
       "      <th>Rating</th>\n",
       "      <th>Comment</th>\n",
       "    </tr>\n",
       "  </thead>\n",
       "  <tbody>\n",
       "    <tr>\n",
       "      <th>19626</th>\n",
       "      <td>The Python Mega Course: Build 10 Real World Ap...</td>\n",
       "      <td>2019-12-31 23:21:28+00:00</td>\n",
       "      <td>4.5</td>\n",
       "      <td>NaN</td>\n",
       "    </tr>\n",
       "    <tr>\n",
       "      <th>19627</th>\n",
       "      <td>The Python Mega Course: Build 10 Real World Ap...</td>\n",
       "      <td>2019-12-31 23:03:29+00:00</td>\n",
       "      <td>4.5</td>\n",
       "      <td>NaN</td>\n",
       "    </tr>\n",
       "    <tr>\n",
       "      <th>19628</th>\n",
       "      <td>The Python Mega Course: Build 10 Real World Ap...</td>\n",
       "      <td>2019-12-31 21:56:47+00:00</td>\n",
       "      <td>3.5</td>\n",
       "      <td>not sure if my visual studio is connected to p...</td>\n",
       "    </tr>\n",
       "    <tr>\n",
       "      <th>19629</th>\n",
       "      <td>The Python Mega Course: Build 10 Real World Ap...</td>\n",
       "      <td>2019-12-31 20:31:09+00:00</td>\n",
       "      <td>4.5</td>\n",
       "      <td>NaN</td>\n",
       "    </tr>\n",
       "    <tr>\n",
       "      <th>19630</th>\n",
       "      <td>The Python Mega Course: Build 10 Real World Ap...</td>\n",
       "      <td>2019-12-31 20:09:12+00:00</td>\n",
       "      <td>4.0</td>\n",
       "      <td>NaN</td>\n",
       "    </tr>\n",
       "    <tr>\n",
       "      <th>...</th>\n",
       "      <td>...</td>\n",
       "      <td>...</td>\n",
       "      <td>...</td>\n",
       "      <td>...</td>\n",
       "    </tr>\n",
       "    <tr>\n",
       "      <th>20778</th>\n",
       "      <td>The Python Mega Course: Build 10 Real World Ap...</td>\n",
       "      <td>2019-12-01 06:10:44+00:00</td>\n",
       "      <td>5.0</td>\n",
       "      <td>NaN</td>\n",
       "    </tr>\n",
       "    <tr>\n",
       "      <th>20779</th>\n",
       "      <td>The Python Mega Course: Build 10 Real World Ap...</td>\n",
       "      <td>2019-12-01 04:48:50+00:00</td>\n",
       "      <td>4.5</td>\n",
       "      <td>Now i'm in section 5 with a previous knowledge...</td>\n",
       "    </tr>\n",
       "    <tr>\n",
       "      <th>20780</th>\n",
       "      <td>The Python Mega Course: Build 10 Real World Ap...</td>\n",
       "      <td>2019-12-01 03:12:46+00:00</td>\n",
       "      <td>4.0</td>\n",
       "      <td>NaN</td>\n",
       "    </tr>\n",
       "    <tr>\n",
       "      <th>20781</th>\n",
       "      <td>The Python Mega Course: Build 10 Real World Ap...</td>\n",
       "      <td>2019-12-01 03:00:10+00:00</td>\n",
       "      <td>5.0</td>\n",
       "      <td>NaN</td>\n",
       "    </tr>\n",
       "    <tr>\n",
       "      <th>20782</th>\n",
       "      <td>Python for Beginners with Examples</td>\n",
       "      <td>2019-12-01 00:07:39+00:00</td>\n",
       "      <td>5.0</td>\n",
       "      <td>NaN</td>\n",
       "    </tr>\n",
       "  </tbody>\n",
       "</table>\n",
       "<p>1157 rows × 4 columns</p>\n",
       "</div>"
      ],
      "text/plain": [
       "                                             Course Name  \\\n",
       "19626  The Python Mega Course: Build 10 Real World Ap...   \n",
       "19627  The Python Mega Course: Build 10 Real World Ap...   \n",
       "19628  The Python Mega Course: Build 10 Real World Ap...   \n",
       "19629  The Python Mega Course: Build 10 Real World Ap...   \n",
       "19630  The Python Mega Course: Build 10 Real World Ap...   \n",
       "...                                                  ...   \n",
       "20778  The Python Mega Course: Build 10 Real World Ap...   \n",
       "20779  The Python Mega Course: Build 10 Real World Ap...   \n",
       "20780  The Python Mega Course: Build 10 Real World Ap...   \n",
       "20781  The Python Mega Course: Build 10 Real World Ap...   \n",
       "20782                 Python for Beginners with Examples   \n",
       "\n",
       "                      Timestamp  Rating  \\\n",
       "19626 2019-12-31 23:21:28+00:00     4.5   \n",
       "19627 2019-12-31 23:03:29+00:00     4.5   \n",
       "19628 2019-12-31 21:56:47+00:00     3.5   \n",
       "19629 2019-12-31 20:31:09+00:00     4.5   \n",
       "19630 2019-12-31 20:09:12+00:00     4.0   \n",
       "...                         ...     ...   \n",
       "20778 2019-12-01 06:10:44+00:00     5.0   \n",
       "20779 2019-12-01 04:48:50+00:00     4.5   \n",
       "20780 2019-12-01 03:12:46+00:00     4.0   \n",
       "20781 2019-12-01 03:00:10+00:00     5.0   \n",
       "20782 2019-12-01 00:07:39+00:00     5.0   \n",
       "\n",
       "                                                 Comment  \n",
       "19626                                                NaN  \n",
       "19627                                                NaN  \n",
       "19628  not sure if my visual studio is connected to p...  \n",
       "19629                                                NaN  \n",
       "19630                                                NaN  \n",
       "...                                                  ...  \n",
       "20778                                                NaN  \n",
       "20779  Now i'm in section 5 with a previous knowledge...  \n",
       "20780                                                NaN  \n",
       "20781                                                NaN  \n",
       "20782                                                NaN  \n",
       "\n",
       "[1157 rows x 4 columns]"
      ]
     },
     "execution_count": 49,
     "metadata": {},
     "output_type": "execute_result"
    }
   ],
   "source": [
    "data[(data[\"Timestamp\"]>=datetime(2019,12,1, tzinfo=utc))&(data[\"Timestamp\"]<=datetime(2020,1,1, tzinfo=utc))]\n",
    "\n"
   ]
  },
  {
   "cell_type": "markdown",
   "id": "25ae4dd9",
   "metadata": {},
   "source": [
    "### Average rating for a particular period: de 2019 to jan 2020  and for a particular course "
   ]
  },
  {
   "cell_type": "code",
   "execution_count": 51,
   "id": "4bf8e7ed",
   "metadata": {},
   "outputs": [
    {
     "data": {
      "text/plain": [
       "4.497469635627531"
      ]
     },
     "execution_count": 51,
     "metadata": {},
     "output_type": "execute_result"
    }
   ],
   "source": [
    "data[(data[\"Timestamp\"]>=datetime(2019,12,1, tzinfo=utc))&\n",
    "\n",
    "    (data[\"Timestamp\"]<=datetime(2020,1,1, tzinfo=utc))&\n",
    "    (data['Course Name']==\"The Python Mega Course: Build 10 Real World Applications\")]['Rating'].mean()"
   ]
  },
  {
   "cell_type": "markdown",
   "id": "1433117b",
   "metadata": {},
   "source": [
    "### Average of uncommented ratings "
   ]
  },
  {
   "cell_type": "code",
   "execution_count": 59,
   "id": "30ae0353",
   "metadata": {},
   "outputs": [
    {
     "data": {
      "text/plain": [
       "4.433679746603492"
      ]
     },
     "execution_count": 59,
     "metadata": {},
     "output_type": "execute_result"
    }
   ],
   "source": [
    "data[data[\"Comment\"].isnull()]['Rating'].mean()"
   ]
  },
  {
   "cell_type": "markdown",
   "id": "faa1f795",
   "metadata": {},
   "source": [
    "### Average of commented ratings "
   ]
  },
  {
   "cell_type": "code",
   "execution_count": 60,
   "id": "af24be92",
   "metadata": {},
   "outputs": [
    {
     "data": {
      "text/plain": [
       "4.489777908515959"
      ]
     },
     "execution_count": 60,
     "metadata": {},
     "output_type": "execute_result"
    }
   ],
   "source": [
    "data[data[\"Comment\"].notnull()]['Rating'].mean()"
   ]
  },
  {
   "cell_type": "markdown",
   "id": "c60450a1",
   "metadata": {},
   "source": [
    "\n",
    "\n",
    "\n",
    "\n",
    "\n",
    "\n",
    "\n",
    "\n",
    "\n",
    "\n",
    "\n",
    "\n",
    "\n",
    "\n",
    "\n",
    "\n",
    "\n",
    "\n",
    "### Number of commented ratings "
   ]
  },
  {
   "cell_type": "code",
   "execution_count": 61,
   "id": "44ee7417",
   "metadata": {},
   "outputs": [
    {
     "data": {
      "text/plain": [
       "6799"
      ]
     },
     "execution_count": 61,
     "metadata": {},
     "output_type": "execute_result"
    }
   ],
   "source": [
    "data[data[\"Comment\"].notnull()]['Rating'].count()"
   ]
  },
  {
   "cell_type": "markdown",
   "id": "50046058",
   "metadata": {},
   "source": [
    "### Number of uncommented ratings"
   ]
  },
  {
   "cell_type": "code",
   "execution_count": 62,
   "id": "b8c71f83",
   "metadata": {},
   "outputs": [
    {
     "data": {
      "text/plain": [
       "38201"
      ]
     },
     "execution_count": 62,
     "metadata": {},
     "output_type": "execute_result"
    }
   ],
   "source": [
    "data[data[\"Comment\"].isnull()]['Rating'].count()"
   ]
  },
  {
   "cell_type": "markdown",
   "id": "33e26023",
   "metadata": {},
   "source": [
    "### Number of comments containing a certain word                \n",
    "\n",
    "\n",
    "\n",
    "\n",
    "\n",
    "\n",
    "\n",
    "\n",
    "\n",
    "\n",
    "\n",
    "\n",
    "\n",
    "\n",
    "\n",
    "\n",
    "\n",
    "\n",
    "\n",
    "\n",
    "\n",
    "\n",
    "\n",
    "\n",
    "\n",
    "\n",
    "\n",
    "\n",
    "\n",
    "\n",
    "\n",
    "\n",
    "\n",
    "\n",
    "\n",
    "\n",
    "\n",
    "\n",
    "\n",
    "\n",
    "\n",
    "\n",
    "\n",
    "\n",
    "\n",
    "\n",
    "\n",
    "\n",
    "\n",
    "\n",
    "\n",
    "\n",
    "\n",
    "\n",
    "\n",
    "\n",
    "\n",
    "\n",
    "\n",
    "\n",
    "\n"
   ]
  },
  {
   "cell_type": "code",
   "execution_count": 73,
   "id": "093c772c",
   "metadata": {},
   "outputs": [
    {
     "data": {
      "text/plain": [
       "77"
      ]
     },
     "execution_count": 73,
     "metadata": {},
     "output_type": "execute_result"
    }
   ],
   "source": [
    "data[data['Comment'].str.contains(\"accent\", na= False)]['Rating'].count()"
   ]
  }
 ],
 "metadata": {
  "kernelspec": {
   "display_name": "Python 3 (ipykernel)",
   "language": "python",
   "name": "python3"
  },
  "language_info": {
   "codemirror_mode": {
    "name": "ipython",
    "version": 3
   },
   "file_extension": ".py",
   "mimetype": "text/x-python",
   "name": "python",
   "nbconvert_exporter": "python",
   "pygments_lexer": "ipython3",
   "version": "3.8.10"
  }
 },
 "nbformat": 4,
 "nbformat_minor": 5
}
